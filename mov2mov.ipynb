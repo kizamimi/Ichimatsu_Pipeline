{
 "cells": [
  {
   "cell_type": "code",
   "execution_count": null,
   "metadata": {},
   "outputs": [],
   "source": [
    "import time\n",
    "import torch\n",
    "import random\n",
    "import numpy as np\n",
    "import PIL.Image\n",
    "from src.ichimatsu import get_pipe\n",
    "\n",
    "def torch_fix_seed(seed=42):\n",
    "    # Python random\n",
    "    random.seed(seed)\n",
    "    # Numpy\n",
    "    np.random.seed(seed)\n",
    "    # Pytorch\n",
    "    torch.manual_seed(seed)\n",
    "    torch.cuda.manual_seed(seed)\n",
    "    torch.backends.cudnn.deterministic = True\n",
    "    torch.use_deterministic_algorithms = True\n",
    "\n",
    "pretrained_model_name_or_path = \"./model/\"\n",
    "lora_checkpoint_path = \"\"\n",
    "vae_path = \"\"\n",
    "\n",
    "alpha = 1.0\n",
    "pipe = get_pipe(pretrained_model_name_or_path, lora_checkpoint_path, vae_path=vae_path, torch_dtype=torch.float16, alpha=alpha)"
   ]
  },
  {
   "cell_type": "code",
   "execution_count": null,
   "metadata": {},
   "outputs": [],
   "source": [
    "prompts = \"best quality, 1girl\"\n",
    "negative_prompts = \"nsfw, low quality, worst quality\"\n",
    "strength = 0.5\n",
    "guidance_scale = 12.5\n",
    "scale = 1\n",
    "\n",
    "use_search_mean_noise = False\n",
    "\n",
    "# TrueがIchimatsu pipeline, Falseはdiffusersのi2i\n",
    "use_ichimatsu_pipeline = True\n",
    "\n",
    "import glob\n",
    "\n",
    "mov_list = glob.glob(\"./input/*.png\")\n",
    "\n",
    "ut = time.time()\n",
    "exe_name = \"./result/\" +\"result_\"+str(ut)\n",
    "\n",
    "for i in range(len(mov_list)):\n",
    "  print(\"\\r\", i+1, \"/\", len(mov_list), end=\"                    \")\n",
    "\n",
    "  input_path = mov_list[i]\n",
    "\n",
    "  seed = 3\n",
    "  if(seed >= 0):\n",
    "    torch_fix_seed(seed=seed)\n",
    "\n",
    "  image = PIL.Image.open(input_path).convert('RGB')\n",
    "  image_result = pipe.__call__(\\\n",
    "      prompt=prompts,\\\n",
    "      image=image, \\\n",
    "      strength=strength, \\\n",
    "      guidance_scale=guidance_scale, \\\n",
    "      negative_prompt=negative_prompts, \\\n",
    "      use_ichimatsu_pipeline = use_ichimatsu_pipeline, \\\n",
    "  )[0][0]\n",
    "  outputFileName = exe_name+\"_\"+str(i).zfill(4)+\"_final_result\"+\".png\"\n",
    "  image_result.resize(image.size, PIL.Image.LANCZOS).save(outputFileName)\n",
    "print(\"DONE\")"
   ]
  }
 ],
 "metadata": {
  "kernelspec": {
   "display_name": "venv",
   "language": "python",
   "name": "python3"
  },
  "language_info": {
   "codemirror_mode": {
    "name": "ipython",
    "version": 3
   },
   "file_extension": ".py",
   "mimetype": "text/x-python",
   "name": "python",
   "nbconvert_exporter": "python",
   "pygments_lexer": "ipython3",
   "version": "3.10.11"
  }
 },
 "nbformat": 4,
 "nbformat_minor": 2
}
